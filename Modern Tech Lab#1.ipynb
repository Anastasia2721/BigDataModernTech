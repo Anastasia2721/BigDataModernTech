{
 "cells": [
  {
   "cell_type": "code",
   "execution_count": 1,
   "metadata": {},
   "outputs": [],
   "source": [
    "import os\n",
    "import re\n",
    "import json\n",
    "import socket\n",
    "import subprocess\n",
    "import pandas as pd\n",
    "import matplotlib.pyplot as plt\n",
    "import seaborn as sns\n",
    "from pyspark import SparkContext, SparkConf\n",
    "from pyspark.sql import SparkSession\n",
    "from pyspark.sql import utils as pu\n",
    "from pyspark.sql import functions as F\n",
    "from pyspark.sql import types as pt"
   ]
  },
  {
   "cell_type": "markdown",
   "metadata": {},
   "source": [
    "## Assignment #1 \n",
    "\n",
    "This task rely on to "
   ]
  },
  {
   "cell_type": "code",
   "execution_count": 2,
   "metadata": {},
   "outputs": [
    {
     "name": "stdout",
     "output_type": "stream",
     "text": [
      "user: /user/st095434/\n"
     ]
    },
    {
     "name": "stderr",
     "output_type": "stream",
     "text": [
      "22/05/31 17:08:10 WARN NativeCodeLoader: Unable to load native-hadoop library for your platform... using builtin-java classes where applicable\n",
      "Using Spark's default log4j profile: org/apache/spark/log4j-defaults.properties\n",
      "Setting default log level to \"WARN\".\n",
      "To adjust logging level use sc.setLogLevel(newLevel). For SparkR, use setLogLevel(newLevel).\n"
     ]
    },
    {
     "data": {
      "text/html": [
       "\n",
       "            <div>\n",
       "                <p><b>SparkSession - in-memory</b></p>\n",
       "                \n",
       "        <div>\n",
       "            <p><b>SparkContext</b></p>\n",
       "\n",
       "            <p><a href=\"/user/st095434/proxy/4040/jobs/\">Spark UI</a></p>\n",
       "\n",
       "            <dl>\n",
       "              <dt>Version</dt>\n",
       "                <dd><code>v3.1.2</code></dd>\n",
       "              <dt>Master</dt>\n",
       "                <dd><code>local[*]</code></dd>\n",
       "              <dt>AppName</dt>\n",
       "                <dd><code>pyspark-shell</code></dd>\n",
       "            </dl>\n",
       "        </div>\n",
       "        \n",
       "            </div>\n",
       "        "
      ],
      "text/plain": [
       "<pyspark.sql.session.SparkSession at 0x7fec7188fa30>"
      ]
     },
     "execution_count": 2,
     "metadata": {},
     "output_type": "execute_result"
    }
   ],
   "source": [
    "print('user:', os.environ['JUPYTERHUB_SERVICE_PREFIX'])\n",
    "\n",
    "def uiWebUrl(self):\n",
    "    from urllib.parse import urlparse\n",
    "    web_url = self._jsc.sc().uiWebUrl().get()\n",
    "    port = urlparse(web_url).port\n",
    "    return '{}proxy/{}/jobs/'.format(os.environ['JUPYTERHUB_SERVICE_PREFIX'], port)\n",
    "\n",
    "SparkContext.uiWebUrl = property(uiWebUrl)\n",
    "\n",
    "conf = SparkConf().set('spark.master', 'local[*]').set('spark.driver.memory', '4g').set(\"spark.executor.instances\", \"4\")\n",
    "sc = SparkContext(conf=conf)\n",
    "spark = SparkSession(sc)\n",
    "spark"
   ]
  },
  {
   "cell_type": "markdown",
   "metadata": {},
   "source": [
    "## Songs \n",
    "\n",
    "The songs. Note that data is in unicode.\n",
    "\n",
    "- song_id\n",
    "- song_length: in ms\n",
    "- genre_ids: genre category. Some songs have multiple genres and they are separated by |\n",
    "- artist_name\n",
    "- composer\n",
    "- lyricist\n",
    "- language\n"
   ]
  },
  {
   "cell_type": "code",
   "execution_count": 3,
   "metadata": {},
   "outputs": [
    {
     "name": "stderr",
     "output_type": "stream",
     "text": [
      "                                                                                \r"
     ]
    },
    {
     "data": {
      "text/html": [
       "<div>\n",
       "<style scoped>\n",
       "    .dataframe tbody tr th:only-of-type {\n",
       "        vertical-align: middle;\n",
       "    }\n",
       "\n",
       "    .dataframe tbody tr th {\n",
       "        vertical-align: top;\n",
       "    }\n",
       "\n",
       "    .dataframe thead th {\n",
       "        text-align: right;\n",
       "    }\n",
       "</style>\n",
       "<table border=\"1\" class=\"dataframe\">\n",
       "  <thead>\n",
       "    <tr style=\"text-align: right;\">\n",
       "      <th></th>\n",
       "      <th>song_id</th>\n",
       "      <th>song_length</th>\n",
       "      <th>genre_ids</th>\n",
       "      <th>artist_name</th>\n",
       "      <th>composer</th>\n",
       "      <th>lyricist</th>\n",
       "      <th>language</th>\n",
       "    </tr>\n",
       "  </thead>\n",
       "  <tbody>\n",
       "    <tr>\n",
       "      <th>0</th>\n",
       "      <td>CXoTN1eb7AI+DntdU1vbcwGRV4SCIDxZu+YD8JP8r4E=</td>\n",
       "      <td>247640</td>\n",
       "      <td>465</td>\n",
       "      <td>張信哲 (Jeff Chang)</td>\n",
       "      <td>董貞</td>\n",
       "      <td>何啟弘</td>\n",
       "      <td>3.0</td>\n",
       "    </tr>\n",
       "    <tr>\n",
       "      <th>1</th>\n",
       "      <td>o0kFgae9QtnYgRkVPqLJwa05zIhRlUjfF7O1tDw0ZDU=</td>\n",
       "      <td>197328</td>\n",
       "      <td>444</td>\n",
       "      <td>BLACKPINK</td>\n",
       "      <td>TEDDY|  FUTURE BOUNCE|  Bekuh BOOM</td>\n",
       "      <td>TEDDY</td>\n",
       "      <td>31.0</td>\n",
       "    </tr>\n",
       "    <tr>\n",
       "      <th>2</th>\n",
       "      <td>DwVvVurfpuz+XPuFvucclVQEyPqcpUkHR0ne1RQzPs0=</td>\n",
       "      <td>231781</td>\n",
       "      <td>465</td>\n",
       "      <td>SUPER JUNIOR</td>\n",
       "      <td>None</td>\n",
       "      <td>None</td>\n",
       "      <td>31.0</td>\n",
       "    </tr>\n",
       "    <tr>\n",
       "      <th>3</th>\n",
       "      <td>dKMBWoZyScdxSkihKG+Vf47nc18N9q4m58+b4e7dSSE=</td>\n",
       "      <td>273554</td>\n",
       "      <td>465</td>\n",
       "      <td>S.H.E</td>\n",
       "      <td>湯小康</td>\n",
       "      <td>徐世珍</td>\n",
       "      <td>3.0</td>\n",
       "    </tr>\n",
       "    <tr>\n",
       "      <th>4</th>\n",
       "      <td>W3bqWd3T+VeHFzHAUfARgW9AvVRaF4N5Yzm4Mr6Eo/o=</td>\n",
       "      <td>140329</td>\n",
       "      <td>726</td>\n",
       "      <td>貴族精選</td>\n",
       "      <td>Traditional</td>\n",
       "      <td>Traditional</td>\n",
       "      <td>52.0</td>\n",
       "    </tr>\n",
       "    <tr>\n",
       "      <th>5</th>\n",
       "      <td>kKJ2JNU5h8rphyW21ovC+RZU+yEHPM+3w85J37p7vEQ=</td>\n",
       "      <td>235520</td>\n",
       "      <td>864|857|850|843</td>\n",
       "      <td>貴族精選</td>\n",
       "      <td>Joe Hisaishi</td>\n",
       "      <td>Hayao Miyazaki</td>\n",
       "      <td>17.0</td>\n",
       "    </tr>\n",
       "    <tr>\n",
       "      <th>6</th>\n",
       "      <td>N9vbanw7BSMoUgdfJlgX1aZPE1XZg8OS1wf88AQEcMc=</td>\n",
       "      <td>226220</td>\n",
       "      <td>458</td>\n",
       "      <td>伍佰 &amp; China Blue</td>\n",
       "      <td>Jonathan Lee</td>\n",
       "      <td>None</td>\n",
       "      <td>3.0</td>\n",
       "    </tr>\n",
       "    <tr>\n",
       "      <th>7</th>\n",
       "      <td>GsCpr618xfveHYJdo+E5SybrpR906tsjLMeKyrCNw8s=</td>\n",
       "      <td>276793</td>\n",
       "      <td>465</td>\n",
       "      <td>光良 (Michael Wong)</td>\n",
       "      <td>光良</td>\n",
       "      <td>彭資閔</td>\n",
       "      <td>3.0</td>\n",
       "    </tr>\n",
       "    <tr>\n",
       "      <th>8</th>\n",
       "      <td>oTi7oINPX+rxoGp+3O6llSltQTl80jDqHoULfRoLcG4=</td>\n",
       "      <td>228623</td>\n",
       "      <td>465</td>\n",
       "      <td>林俊傑 (JJ Lin)</td>\n",
       "      <td>JJ Lin</td>\n",
       "      <td>Wu Qing Feng</td>\n",
       "      <td>3.0</td>\n",
       "    </tr>\n",
       "    <tr>\n",
       "      <th>9</th>\n",
       "      <td>btcG03OHY3GNKWccPP0auvtSbhxog/kllIIOx5grE/k=</td>\n",
       "      <td>232629</td>\n",
       "      <td>352|1995</td>\n",
       "      <td>Kodaline</td>\n",
       "      <td>Stephen Garrigan| Mark Prendergast| Vincent Ma...</td>\n",
       "      <td>Stephen Garrigan| Mark Prendergast| Vincent Ma...</td>\n",
       "      <td>52.0</td>\n",
       "    </tr>\n",
       "  </tbody>\n",
       "</table>\n",
       "</div>"
      ],
      "text/plain": [
       "                                        song_id song_length        genre_ids  \\\n",
       "0  CXoTN1eb7AI+DntdU1vbcwGRV4SCIDxZu+YD8JP8r4E=      247640              465   \n",
       "1  o0kFgae9QtnYgRkVPqLJwa05zIhRlUjfF7O1tDw0ZDU=      197328              444   \n",
       "2  DwVvVurfpuz+XPuFvucclVQEyPqcpUkHR0ne1RQzPs0=      231781              465   \n",
       "3  dKMBWoZyScdxSkihKG+Vf47nc18N9q4m58+b4e7dSSE=      273554              465   \n",
       "4  W3bqWd3T+VeHFzHAUfARgW9AvVRaF4N5Yzm4Mr6Eo/o=      140329              726   \n",
       "5  kKJ2JNU5h8rphyW21ovC+RZU+yEHPM+3w85J37p7vEQ=      235520  864|857|850|843   \n",
       "6  N9vbanw7BSMoUgdfJlgX1aZPE1XZg8OS1wf88AQEcMc=      226220              458   \n",
       "7  GsCpr618xfveHYJdo+E5SybrpR906tsjLMeKyrCNw8s=      276793              465   \n",
       "8  oTi7oINPX+rxoGp+3O6llSltQTl80jDqHoULfRoLcG4=      228623              465   \n",
       "9  btcG03OHY3GNKWccPP0auvtSbhxog/kllIIOx5grE/k=      232629         352|1995   \n",
       "\n",
       "         artist_name                                           composer  \\\n",
       "0   張信哲 (Jeff Chang)                                                 董貞   \n",
       "1          BLACKPINK                 TEDDY|  FUTURE BOUNCE|  Bekuh BOOM   \n",
       "2       SUPER JUNIOR                                               None   \n",
       "3              S.H.E                                                湯小康   \n",
       "4               貴族精選                                        Traditional   \n",
       "5               貴族精選                                       Joe Hisaishi   \n",
       "6    伍佰 & China Blue                                       Jonathan Lee   \n",
       "7  光良 (Michael Wong)                                                 光良   \n",
       "8       林俊傑 (JJ Lin)                                             JJ Lin   \n",
       "9           Kodaline  Stephen Garrigan| Mark Prendergast| Vincent Ma...   \n",
       "\n",
       "                                            lyricist language  \n",
       "0                                                何啟弘      3.0  \n",
       "1                                              TEDDY     31.0  \n",
       "2                                               None     31.0  \n",
       "3                                                徐世珍      3.0  \n",
       "4                                        Traditional     52.0  \n",
       "5                                     Hayao Miyazaki     17.0  \n",
       "6                                               None      3.0  \n",
       "7                                                彭資閔      3.0  \n",
       "8                                       Wu Qing Feng      3.0  \n",
       "9  Stephen Garrigan| Mark Prendergast| Vincent Ma...     52.0  "
      ]
     },
     "execution_count": 3,
     "metadata": {},
     "output_type": "execute_result"
    }
   ],
   "source": [
    "songs = spark.read.option(\"header\", \"True\")\\\n",
    "    .csv(\"file:///home/jovyan/__DATA/big_data_2022/labs/kkbox-music-recommendation-challenge/songs.csv\")\n",
    "\n",
    "songs.limit(100).toPandas().head(10)"
   ]
  },
  {
   "cell_type": "code",
   "execution_count": null,
   "metadata": {},
   "outputs": [],
   "source": []
  },
  {
   "cell_type": "markdown",
   "metadata": {},
   "source": [
    "## \"Train\" data\n",
    "\n",
    "Some data of users listen history \n",
    "\n",
    "- msno: user id\n",
    "- song_id: song id\n",
    "- source_system_tab: the name of the tab where the event was triggered. System tabs are used to categorize KKBOX mobile apps functions. For example, tab my library contains functions to manipulate the local storage, and tab search contains functions relating to search.\n",
    "- source_screen_name: name of the layout a user sees.\n",
    "- source_type: an entry point a user first plays music on mobile apps. An entry point could be album, online-playlist, song .. etc.\n",
    "- target: this is the target variable. target=1 means there are recurring listening event(s) triggered within a month after the user’s very first observable listening event, target=0 otherwise .\n"
   ]
  },
  {
   "cell_type": "code",
   "execution_count": 4,
   "metadata": {},
   "outputs": [
    {
     "name": "stdout",
     "output_type": "stream",
     "text": [
      "+--------------------+--------------------+-----------------+-------------------+-------------------+------+\n",
      "|                msno|             song_id|source_system_tab| source_screen_name|        source_type|target|\n",
      "+--------------------+--------------------+-----------------+-------------------+-------------------+------+\n",
      "|FGtllVqz18RPiwJj/...|BBzumQNXUHKdEBOB7...|          explore|            Explore|    online-playlist|     1|\n",
      "|Xumu+NIjS6QYVxDS4...|bhp/MpSNoqoxOIB+/...|       my library|Local playlist more|     local-playlist|     1|\n",
      "|Xumu+NIjS6QYVxDS4...|JNWfrrC7zNN7BdMps...|       my library|Local playlist more|     local-playlist|     1|\n",
      "|Xumu+NIjS6QYVxDS4...|2A87tzfnJTSWqD7gI...|       my library|Local playlist more|     local-playlist|     1|\n",
      "|FGtllVqz18RPiwJj/...|3qm6XTZ6MOCU11x8F...|          explore|            Explore|    online-playlist|     1|\n",
      "|FGtllVqz18RPiwJj/...|3Hg5kugV1S0wzEVLA...|          explore|            Explore|    online-playlist|     1|\n",
      "|Xumu+NIjS6QYVxDS4...|VkILU0H1h3NMmk9MQ...|       my library|Local playlist more|     local-playlist|     1|\n",
      "|FGtllVqz18RPiwJj/...|bPIvRTzfHxH5LgHrS...|          explore|            Explore|    online-playlist|     1|\n",
      "|uHqAtShXTRXju5GE8...|/bU6IRSK+YNlNbaTk...|       my library|Local playlist more|      local-library|     1|\n",
      "|uHqAtShXTRXju5GE8...|EbI7xoNxI+3QSsiHx...|       my library|Local playlist more|      local-library|     1|\n",
      "|uHqAtShXTRXju5GE8...|t0aT90DlS1TGncgnK...|       my library|Local playlist more|      local-library|     1|\n",
      "|uHqAtShXTRXju5GE8...|8FGjC9W+7F8WjheGZ...|       my library|Local playlist more|      local-library|     1|\n",
      "|TJU0Gfvy7FB+r89bW...|u6/Pb7X4u7KU4gXrB...|       my library|               null|top-hits-for-artist|     0|\n",
      "|3g0bC24RD7QUeALY1...|TYhx9eqWklddkLQlA...|       my library|Local playlist more|      local-library|     1|\n",
      "|TJU0Gfvy7FB+r89bW...|IgMar/mVrJQ+ODFPy...|       my library|Local playlist more|     local-playlist|     1|\n",
      "|3g0bC24RD7QUeALY1...|6HofPS0v2MVFsL10y...|       my library|Local playlist more|      local-library|     1|\n",
      "|TJU0Gfvy7FB+r89bW...|a4TbK5V15pj3YZUOG...|       my library|         My library|     local-playlist|     1|\n",
      "|TJU0Gfvy7FB+r89bW...|t95ClWf/B7Hi46sJe...|       my library|         My library|     local-playlist|     1|\n",
      "|TJU0Gfvy7FB+r89bW...|4ZISq5iNKgBGGW2Ov...|       my library|               null|top-hits-for-artist|     0|\n",
      "|uQQHTQJ1nVEkBfbXe...|9yi9yLGK5Soiz1IO3...|       my library|Local playlist more|      local-library|     1|\n",
      "+--------------------+--------------------+-----------------+-------------------+-------------------+------+\n",
      "only showing top 20 rows\n",
      "\n"
     ]
    }
   ],
   "source": [
    "listen_history = spark.read.option(\"header\", \"True\")\\\n",
    "    .csv(\"file:///home/jovyan/__DATA/big_data_2022/labs/kkbox-music-recommendation-challenge/train.csv\")\n",
    "\n",
    "listen_history.show()"
   ]
  },
  {
   "cell_type": "markdown",
   "metadata": {},
   "source": [
    "## Assignment:\n",
    "\n",
    "PREFER DATA FRAME API(!)\n",
    "\n",
    "Vision of result:\n",
    "- self-sufficient jupyter notebook\n",
    "- not only the code but n\n",
    "- published on github \n",
    "- link to your github attached here https://docs.google.com/spreadsheets/d/1F8ScpCCiBaxiyZqDd09jn6t25pykiK8oauJbRuuA8Q4/edit?usp=sharing\n",
    "\n",
    "\n",
    "Task 1: \n",
    "- Find out top-20 of most popular artist's in terms of: raw listens, unique users listens;\n",
    "\n",
    "Task 2: \n",
    "- find out top-3 languages by num of raw listens\n",
    "- build histogram of songs length by language / genre. What is the longest genre? What is more valuable in terms of length: language or genre? \n",
    "\n",
    "Deadlines:\n",
    "- soft 17.05\n",
    "- hard 24.05"
   ]
  },
  {
   "cell_type": "code",
   "execution_count": 5,
   "metadata": {},
   "outputs": [
    {
     "name": "stdout",
     "output_type": "stream",
     "text": [
      "+--------------------+----+---+------+--------------+----------------------+---------------+\n",
      "|                msno|city| bd|gender|registered_via|registration_init_time|expiration_date|\n",
      "+--------------------+----+---+------+--------------+----------------------+---------------+\n",
      "|XQxgAYj3klVKjR3ox...|   1|  0|  null|             7|              20110820|       20170920|\n",
      "|UizsfmJb9mV54qE9h...|   1|  0|  null|             7|              20150628|       20170622|\n",
      "|D8nEhsIOBSoE6VthT...|   1|  0|  null|             4|              20160411|       20170712|\n",
      "|mCuD+tZ1hERA/o5GP...|   1|  0|  null|             9|              20150906|       20150907|\n",
      "|q4HRBfVSssAFS9iRf...|   1|  0|  null|             4|              20170126|       20170613|\n",
      "|zgPOEyUn5a/Fvuzb3...|  13| 43|female|             9|              20120703|       20171006|\n",
      "|Sw9AT8QoR4wWiNUqH...|   1|  0|  null|             4|              20160326|       20160329|\n",
      "|pg6bT2XZkSP1TDBy4...|   1|  0|  null|             7|              20160130|       20170930|\n",
      "|kfk1AdTNH2dNqF5Lz...|   1|  0|  null|             7|              20110111|       20170930|\n",
      "|tscijwx4dbEp0NXGl...|   1|  0|  null|             7|              20160217|       20170613|\n",
      "|GoFYKhcq8Q5Gjz1M5...|  12| 28|  male|             9|              20060531|       20170816|\n",
      "|Hiw71XZQSoEe1I7pB...|   1|  0|  null|             7|              20150909|       20170909|\n",
      "|V6QgFYHgsfZ2G6hFz...|   1|  0|  null|             7|              20120105|       20170918|\n",
      "|RoSfblbwJN/izEnFI...|  15| 33|female|             3|              20150915|       20171019|\n",
      "|N+dxmo1qvkKAlzYtc...|   1|  0|  null|             3|              20140412|       20170815|\n",
      "|vUzJAyFEudsnkWwfc...|  13| 20|  male|             3|              20140410|       20170427|\n",
      "|Ev+ouoRTpAjrtxNVe...|  13| 30|  male|             9|              20070330|       20170612|\n",
      "|/NFMlPP8FvyxVLHcS...|   1|  0|  null|             7|              20121228|       20170930|\n",
      "|XeAoaR5gMiy74l4HU...|   1|  0|  null|             4|              20161224|       20170614|\n",
      "|v8+kU3kqYo9P8kIcu...|   1|  0|  null|             9|              20160923|       20170925|\n",
      "+--------------------+----+---+------+--------------+----------------------+---------------+\n",
      "only showing top 20 rows\n",
      "\n"
     ]
    }
   ],
   "source": [
    "\n",
    "members = spark.read.option(\"header\", \"True\")\\\n",
    "    .csv(\"file:///home/jovyan/__DATA/big_data_2022/labs/kkbox-music-recommendation-challenge/members.csv\")\n",
    "\n",
    "members.show()"
   ]
  },
  {
   "cell_type": "code",
   "execution_count": 6,
   "metadata": {},
   "outputs": [
    {
     "name": "stdout",
     "output_type": "stream",
     "text": [
      "+--------------------+-----------+---------------+-------------------------+----------------------+--------------------+--------+\n",
      "|             song_id|song_length|      genre_ids|              artist_name|              composer|            lyricist|language|\n",
      "+--------------------+-----------+---------------+-------------------------+----------------------+--------------------+--------+\n",
      "|CXoTN1eb7AI+DntdU...|     247640|            465|      張信哲 (Jeff Chang)|                  董貞|              何啟弘|     3.0|\n",
      "|o0kFgae9QtnYgRkVP...|     197328|            444|                BLACKPINK|  TEDDY|  FUTURE BO...|               TEDDY|    31.0|\n",
      "|DwVvVurfpuz+XPuFv...|     231781|            465|             SUPER JUNIOR|                  null|                null|    31.0|\n",
      "|dKMBWoZyScdxSkihK...|     273554|            465|                    S.H.E|                湯小康|              徐世珍|     3.0|\n",
      "|W3bqWd3T+VeHFzHAU...|     140329|            726|                 貴族精選|           Traditional|         Traditional|    52.0|\n",
      "|kKJ2JNU5h8rphyW21...|     235520|864|857|850|843|                 貴族精選|          Joe Hisaishi|      Hayao Miyazaki|    17.0|\n",
      "|N9vbanw7BSMoUgdfJ...|     226220|            458|        伍佰 & China Blue|          Jonathan Lee|                null|     3.0|\n",
      "|GsCpr618xfveHYJdo...|     276793|            465|      光良 (Michael Wong)|                  光良|              彭資閔|     3.0|\n",
      "|oTi7oINPX+rxoGp+3...|     228623|            465|          林俊傑 (JJ Lin)|                JJ Lin|        Wu Qing Feng|     3.0|\n",
      "|btcG03OHY3GNKWccP...|     232629|       352|1995|                 Kodaline|  Stephen Garrigan|...|Stephen Garrigan|...|    52.0|\n",
      "|HulM/OaHgD5kUyjNQ...|     272544|           2157|   D.L 羅時豐 (Daniel Lo)|                陳偉強|              陳偉強|    10.0|\n",
      "|wypPzqFNdUJAqyBVx...|     254880|            465|               白安 (Ann)|                  白安|                白安|     3.0|\n",
      "|fAZLdfQaLG76a6Ei4...|     180871|            726|               Littlesong|  Michael William B...|                null|    -1.0|\n",
      "|tqBlH4r/q1Tf6C5+C...|     257602|            458|         蔡旻佑 (Evan Yo)|                蔡旻佑|              陳信延|     3.0|\n",
      "|an6EdIr+Z+KbqIVQi...|     282697|            359|                 Coldplay|  Chris Martin| Guy...|                null|    52.0|\n",
      "|J2MFmy8iF94mExWfR...|     221518|            359|            Maggie Rogers|  Maggie Rogers| Ni...|                null|    52.0|\n",
      "|MrRilXQwoUAcoAf0N...|     199157|            458|小男孩樂團 (Men Envy C...|\"Skot Suyama陶山/\"\"...|  程懷昌 Vince Cheng|     3.0|\n",
      "|OcG4Ya7iXmVMCMy24...|     169430|            465|                  BIGBANG|        TAEYANG| TEDDY|G-DRAGON| T.O.P| ...|     3.0|\n",
      "|JcHIgDP5ivyqYIn7R...|     374027|            726|              White Noise|                  null|                null|    -1.0|\n",
      "|3Po6v5nAk+ACnmTgG...|     246015|            465|     步步驚心主題曲原聲EP|                嚴藝丹|              嚴藝丹|     3.0|\n",
      "+--------------------+-----------+---------------+-------------------------+----------------------+--------------------+--------+\n",
      "only showing top 20 rows\n",
      "\n"
     ]
    }
   ],
   "source": [
    "songs.show()"
   ]
  },
  {
   "cell_type": "code",
   "execution_count": 7,
   "metadata": {},
   "outputs": [
    {
     "name": "stderr",
     "output_type": "stream",
     "text": [
      "[Stage 8:=================================================>       (14 + 2) / 16]\r"
     ]
    },
    {
     "name": "stdout",
     "output_type": "stream",
     "text": [
      "+--------------------+--------------------+-----------------+--------------------+-------------------+------+--------------------+-----------+-----------+-------------------+---------------+---------------+--------+\n",
      "|                msno|             song_id|source_system_tab|  source_screen_name|        source_type|target|             song_id|song_length|  genre_ids|        artist_name|       composer|       lyricist|language|\n",
      "+--------------------+--------------------+-----------------+--------------------+-------------------+------+--------------------+-----------+-----------+-------------------+---------------+---------------+--------+\n",
      "|CUtaQQ1S5S03VKAed...|++XsB7MZl/8xl/d0/...|       my library| Local playlist more|      local-library|     0|++XsB7MZl/8xl/d0/...|     452092|        947|       C'est La Vie|        Honey B|           null|    -1.0|\n",
      "|EbFZYurZKp8cx+mUO...|++XsB7MZl/8xl/d0/...|           search|         Artist more|top-hits-for-artist|     0|++XsB7MZl/8xl/d0/...|     452092|        947|       C'est La Vie|        Honey B|           null|    -1.0|\n",
      "|RoSfblbwJN/izEnFI...|++XsB7MZl/8xl/d0/...|         discover|    Discover Feature|song-based-playlist|     1|++XsB7MZl/8xl/d0/...|     452092|        947|       C'est La Vie|        Honey B|           null|    -1.0|\n",
      "|P2J8jjQASO4fOCRS6...|++XsB7MZl/8xl/d0/...|         discover|          Album more|              album|     0|++XsB7MZl/8xl/d0/...|     452092|        947|       C'est La Vie|        Honey B|           null|    -1.0|\n",
      "|HdnZZ4P0Vjxo2tgTv...|++XsB7MZl/8xl/d0/...|         discover|    Discover Feature|song-based-playlist|     0|++XsB7MZl/8xl/d0/...|     452092|        947|       C'est La Vie|        Honey B|           null|    -1.0|\n",
      "|AFgeLx7QufroNFIrS...|++XsB7MZl/8xl/d0/...|       my library| Local playlist more|     local-playlist|     0|++XsB7MZl/8xl/d0/...|     452092|        947|       C'est La Vie|        Honey B|           null|    -1.0|\n",
      "|+v/pugpxSGHZxZmdu...|++XsB7MZl/8xl/d0/...|       my library| Local playlist more|     local-playlist|     1|++XsB7MZl/8xl/d0/...|     452092|        947|       C'est La Vie|        Honey B|           null|    -1.0|\n",
      "|UQbCHXdofUWzBkm5N...|++XsB7MZl/8xl/d0/...|       my library| Local playlist more|     local-playlist|     0|++XsB7MZl/8xl/d0/...|     452092|        947|       C'est La Vie|        Honey B|           null|    -1.0|\n",
      "|OWle+lhgrJrnrca4O...|++XsB7MZl/8xl/d0/...|       my library| Local playlist more|     local-playlist|     0|++XsB7MZl/8xl/d0/...|     452092|        947|       C'est La Vie|        Honey B|           null|    -1.0|\n",
      "|FzHdkSRP4t6UfxqmC...|++XsB7MZl/8xl/d0/...|           search|          Album more|              album|     0|++XsB7MZl/8xl/d0/...|     452092|        947|       C'est La Vie|        Honey B|           null|    -1.0|\n",
      "|1tPPjFSYo43nr+pnO...|++XsB7MZl/8xl/d0/...|         discover|Online playlist more|song-based-playlist|     1|++XsB7MZl/8xl/d0/...|     452092|        947|       C'est La Vie|        Honey B|           null|    -1.0|\n",
      "|gxxBbzV3eE2XGjUrF...|++XsB7MZl/8xl/d0/...|       my library|         Artist more|top-hits-for-artist|     0|++XsB7MZl/8xl/d0/...|     452092|        947|       C'est La Vie|        Honey B|           null|    -1.0|\n",
      "|4abUL+lw0T5WFbdge...|+/A0DjeA6RcVEUbk5...|       my library|          Album more|              album|     0|+/A0DjeA6RcVEUbk5...|     177120|       2022|            Karen O|           null|           null|    52.0|\n",
      "|Md3VYQO0YY4A2r9YP...|+/TUOESJYj4Q/m/Jp...|       my library|          My library|      local-library|     0|+/TUOESJYj4Q/m/Jp...|     252107|        465|    蘇芮 (Julie Su)|Chen Huan-Zhong|Chen Huan-Zhong|     3.0|\n",
      "|aW5wmYfRiSfTW1/be...|+72Md76ZuKMKHnw4y...|           search|              Search|               song|     1|+72Md76ZuKMKHnw4y...|     220682|139|125|109|          Jonn Hart|           null|           null|    52.0|\n",
      "|oknaQTR9EFrSCtZ6c...|+A0vsO5q/6XAAvqoS...|       my library| Local playlist more|      local-library|     0|+A0vsO5q/6XAAvqoS...|     270106|        465|周傳雄 (Steve Chou)|         周傳雄|         陳信榮|     3.0|\n",
      "|sOOABBEHWMUhHFP15...|+A0vsO5q/6XAAvqoS...|       my library| Local playlist more|      local-library|     1|+A0vsO5q/6XAAvqoS...|     270106|        465|周傳雄 (Steve Chou)|         周傳雄|         陳信榮|     3.0|\n",
      "|45rm9KkPuVt1izcfU...|+A0vsO5q/6XAAvqoS...|           search|              Search|               song|     0|+A0vsO5q/6XAAvqoS...|     270106|        465|周傳雄 (Steve Chou)|         周傳雄|         陳信榮|     3.0|\n",
      "|ErJTe7du89qWqhOu5...|+A0vsO5q/6XAAvqoS...|       my library| Local playlist more|      local-library|     1|+A0vsO5q/6XAAvqoS...|     270106|        465|周傳雄 (Steve Chou)|         周傳雄|         陳信榮|     3.0|\n",
      "|DNkE+EIKz6pzn0oid...|+A0vsO5q/6XAAvqoS...|       my library|Online playlist more|    online-playlist|     0|+A0vsO5q/6XAAvqoS...|     270106|        465|周傳雄 (Steve Chou)|         周傳雄|         陳信榮|     3.0|\n",
      "+--------------------+--------------------+-----------------+--------------------+-------------------+------+--------------------+-----------+-----------+-------------------+---------------+---------------+--------+\n",
      "only showing top 20 rows\n",
      "\n"
     ]
    },
    {
     "name": "stderr",
     "output_type": "stream",
     "text": [
      "                                                                                \r"
     ]
    }
   ],
   "source": [
    "listen_ext = listen_history.join(songs, listen_history.song_id == songs.song_id, 'inner')\n",
    "listen_ext.show()"
   ]
  },
  {
   "cell_type": "code",
   "execution_count": 8,
   "metadata": {},
   "outputs": [
    {
     "name": "stderr",
     "output_type": "stream",
     "text": [
      "                                                                                \r"
     ]
    },
    {
     "data": {
      "text/html": [
       "<div>\n",
       "<style scoped>\n",
       "    .dataframe tbody tr th:only-of-type {\n",
       "        vertical-align: middle;\n",
       "    }\n",
       "\n",
       "    .dataframe tbody tr th {\n",
       "        vertical-align: top;\n",
       "    }\n",
       "\n",
       "    .dataframe thead th {\n",
       "        text-align: right;\n",
       "    }\n",
       "</style>\n",
       "<table border=\"1\" class=\"dataframe\">\n",
       "  <thead>\n",
       "    <tr style=\"text-align: right;\">\n",
       "      <th></th>\n",
       "      <th>artist_name</th>\n",
       "      <th>count</th>\n",
       "    </tr>\n",
       "  </thead>\n",
       "  <tbody>\n",
       "    <tr>\n",
       "      <th>0</th>\n",
       "      <td>Various Artists</td>\n",
       "      <td>303617</td>\n",
       "    </tr>\n",
       "    <tr>\n",
       "      <th>1</th>\n",
       "      <td>周杰倫 (Jay Chou)</td>\n",
       "      <td>186776</td>\n",
       "    </tr>\n",
       "    <tr>\n",
       "      <th>2</th>\n",
       "      <td>五月天 (Mayday)</td>\n",
       "      <td>182088</td>\n",
       "    </tr>\n",
       "    <tr>\n",
       "      <th>3</th>\n",
       "      <td>林俊傑 (JJ Lin)</td>\n",
       "      <td>115325</td>\n",
       "    </tr>\n",
       "    <tr>\n",
       "      <th>4</th>\n",
       "      <td>田馥甄 (Hebe)</td>\n",
       "      <td>104946</td>\n",
       "    </tr>\n",
       "    <tr>\n",
       "      <th>5</th>\n",
       "      <td>aMEI (張惠妹)</td>\n",
       "      <td>82799</td>\n",
       "    </tr>\n",
       "    <tr>\n",
       "      <th>6</th>\n",
       "      <td>陳奕迅 (Eason Chan)</td>\n",
       "      <td>76035</td>\n",
       "    </tr>\n",
       "    <tr>\n",
       "      <th>7</th>\n",
       "      <td>玖壹壹</td>\n",
       "      <td>70445</td>\n",
       "    </tr>\n",
       "    <tr>\n",
       "      <th>8</th>\n",
       "      <td>G.E.M.鄧紫棋</td>\n",
       "      <td>67297</td>\n",
       "    </tr>\n",
       "    <tr>\n",
       "      <th>9</th>\n",
       "      <td>BIGBANG</td>\n",
       "      <td>61927</td>\n",
       "    </tr>\n",
       "    <tr>\n",
       "      <th>10</th>\n",
       "      <td>謝和弦 (R-chord)</td>\n",
       "      <td>57040</td>\n",
       "    </tr>\n",
       "    <tr>\n",
       "      <th>11</th>\n",
       "      <td>Maroon 5</td>\n",
       "      <td>55151</td>\n",
       "    </tr>\n",
       "    <tr>\n",
       "      <th>12</th>\n",
       "      <td>A-Lin</td>\n",
       "      <td>52913</td>\n",
       "    </tr>\n",
       "    <tr>\n",
       "      <th>13</th>\n",
       "      <td>Eric 周興哲</td>\n",
       "      <td>49426</td>\n",
       "    </tr>\n",
       "    <tr>\n",
       "      <th>14</th>\n",
       "      <td>蔡依林 (Jolin Tsai)</td>\n",
       "      <td>49055</td>\n",
       "    </tr>\n",
       "    <tr>\n",
       "      <th>15</th>\n",
       "      <td>蘇打綠 (Sodagreen)</td>\n",
       "      <td>47177</td>\n",
       "    </tr>\n",
       "    <tr>\n",
       "      <th>16</th>\n",
       "      <td>楊丞琳 (Rainie Yang)</td>\n",
       "      <td>46006</td>\n",
       "    </tr>\n",
       "    <tr>\n",
       "      <th>17</th>\n",
       "      <td>丁噹 (Della)</td>\n",
       "      <td>45762</td>\n",
       "    </tr>\n",
       "    <tr>\n",
       "      <th>18</th>\n",
       "      <td>梁靜茹 (Fish Leong)</td>\n",
       "      <td>44290</td>\n",
       "    </tr>\n",
       "    <tr>\n",
       "      <th>19</th>\n",
       "      <td>The Chainsmokers</td>\n",
       "      <td>44215</td>\n",
       "    </tr>\n",
       "  </tbody>\n",
       "</table>\n",
       "</div>"
      ],
      "text/plain": [
       "          artist_name   count\n",
       "0     Various Artists  303617\n",
       "1      周杰倫 (Jay Chou)  186776\n",
       "2        五月天 (Mayday)  182088\n",
       "3        林俊傑 (JJ Lin)  115325\n",
       "4          田馥甄 (Hebe)  104946\n",
       "5          aMEI (張惠妹)   82799\n",
       "6    陳奕迅 (Eason Chan)   76035\n",
       "7                 玖壹壹   70445\n",
       "8           G.E.M.鄧紫棋   67297\n",
       "9             BIGBANG   61927\n",
       "10      謝和弦 (R-chord)   57040\n",
       "11           Maroon 5   55151\n",
       "12              A-Lin   52913\n",
       "13           Eric 周興哲   49426\n",
       "14   蔡依林 (Jolin Tsai)   49055\n",
       "15    蘇打綠 (Sodagreen)   47177\n",
       "16  楊丞琳 (Rainie Yang)   46006\n",
       "17         丁噹 (Della)   45762\n",
       "18   梁靜茹 (Fish Leong)   44290\n",
       "19   The Chainsmokers   44215"
      ]
     },
     "execution_count": 8,
     "metadata": {},
     "output_type": "execute_result"
    }
   ],
   "source": [
    "#Task 1: \n",
    "#- Find out top-20 of most popular artist's in terms of: raw listens\n",
    "listen_ext_cnt = listen_ext.groupBy(\"artist_name\").count().sort(\"count\", ascending=False)\n",
    "\n",
    "raw_listen_20 = listen_ext_cnt.limit(20).toPandas()\n",
    "raw_listen_20.head(20)"
   ]
  },
  {
   "cell_type": "code",
   "execution_count": 9,
   "metadata": {},
   "outputs": [
    {
     "name": "stderr",
     "output_type": "stream",
     "text": [
      "                                                                                \r"
     ]
    },
    {
     "data": {
      "text/html": [
       "<div>\n",
       "<style scoped>\n",
       "    .dataframe tbody tr th:only-of-type {\n",
       "        vertical-align: middle;\n",
       "    }\n",
       "\n",
       "    .dataframe tbody tr th {\n",
       "        vertical-align: top;\n",
       "    }\n",
       "\n",
       "    .dataframe thead th {\n",
       "        text-align: right;\n",
       "    }\n",
       "</style>\n",
       "<table border=\"1\" class=\"dataframe\">\n",
       "  <thead>\n",
       "    <tr style=\"text-align: right;\">\n",
       "      <th></th>\n",
       "      <th>artist_name</th>\n",
       "      <th>count</th>\n",
       "    </tr>\n",
       "  </thead>\n",
       "  <tbody>\n",
       "    <tr>\n",
       "      <th>0</th>\n",
       "      <td>Various Artists</td>\n",
       "      <td>303617</td>\n",
       "    </tr>\n",
       "    <tr>\n",
       "      <th>1</th>\n",
       "      <td>周杰倫 (Jay Chou)</td>\n",
       "      <td>186776</td>\n",
       "    </tr>\n",
       "    <tr>\n",
       "      <th>2</th>\n",
       "      <td>五月天 (Mayday)</td>\n",
       "      <td>182088</td>\n",
       "    </tr>\n",
       "    <tr>\n",
       "      <th>3</th>\n",
       "      <td>林俊傑 (JJ Lin)</td>\n",
       "      <td>115325</td>\n",
       "    </tr>\n",
       "    <tr>\n",
       "      <th>4</th>\n",
       "      <td>田馥甄 (Hebe)</td>\n",
       "      <td>104946</td>\n",
       "    </tr>\n",
       "    <tr>\n",
       "      <th>5</th>\n",
       "      <td>aMEI (張惠妹)</td>\n",
       "      <td>82799</td>\n",
       "    </tr>\n",
       "    <tr>\n",
       "      <th>6</th>\n",
       "      <td>陳奕迅 (Eason Chan)</td>\n",
       "      <td>76035</td>\n",
       "    </tr>\n",
       "    <tr>\n",
       "      <th>7</th>\n",
       "      <td>玖壹壹</td>\n",
       "      <td>70445</td>\n",
       "    </tr>\n",
       "    <tr>\n",
       "      <th>8</th>\n",
       "      <td>G.E.M.鄧紫棋</td>\n",
       "      <td>67297</td>\n",
       "    </tr>\n",
       "    <tr>\n",
       "      <th>9</th>\n",
       "      <td>BIGBANG</td>\n",
       "      <td>61927</td>\n",
       "    </tr>\n",
       "    <tr>\n",
       "      <th>10</th>\n",
       "      <td>謝和弦 (R-chord)</td>\n",
       "      <td>57040</td>\n",
       "    </tr>\n",
       "    <tr>\n",
       "      <th>11</th>\n",
       "      <td>Maroon 5</td>\n",
       "      <td>55151</td>\n",
       "    </tr>\n",
       "    <tr>\n",
       "      <th>12</th>\n",
       "      <td>A-Lin</td>\n",
       "      <td>52913</td>\n",
       "    </tr>\n",
       "    <tr>\n",
       "      <th>13</th>\n",
       "      <td>Eric 周興哲</td>\n",
       "      <td>49426</td>\n",
       "    </tr>\n",
       "    <tr>\n",
       "      <th>14</th>\n",
       "      <td>蔡依林 (Jolin Tsai)</td>\n",
       "      <td>49055</td>\n",
       "    </tr>\n",
       "    <tr>\n",
       "      <th>15</th>\n",
       "      <td>蘇打綠 (Sodagreen)</td>\n",
       "      <td>47177</td>\n",
       "    </tr>\n",
       "    <tr>\n",
       "      <th>16</th>\n",
       "      <td>楊丞琳 (Rainie Yang)</td>\n",
       "      <td>46006</td>\n",
       "    </tr>\n",
       "    <tr>\n",
       "      <th>17</th>\n",
       "      <td>丁噹 (Della)</td>\n",
       "      <td>45762</td>\n",
       "    </tr>\n",
       "    <tr>\n",
       "      <th>18</th>\n",
       "      <td>梁靜茹 (Fish Leong)</td>\n",
       "      <td>44290</td>\n",
       "    </tr>\n",
       "    <tr>\n",
       "      <th>19</th>\n",
       "      <td>The Chainsmokers</td>\n",
       "      <td>44215</td>\n",
       "    </tr>\n",
       "  </tbody>\n",
       "</table>\n",
       "</div>"
      ],
      "text/plain": [
       "          artist_name   count\n",
       "0     Various Artists  303617\n",
       "1      周杰倫 (Jay Chou)  186776\n",
       "2        五月天 (Mayday)  182088\n",
       "3        林俊傑 (JJ Lin)  115325\n",
       "4          田馥甄 (Hebe)  104946\n",
       "5          aMEI (張惠妹)   82799\n",
       "6    陳奕迅 (Eason Chan)   76035\n",
       "7                 玖壹壹   70445\n",
       "8           G.E.M.鄧紫棋   67297\n",
       "9             BIGBANG   61927\n",
       "10      謝和弦 (R-chord)   57040\n",
       "11           Maroon 5   55151\n",
       "12              A-Lin   52913\n",
       "13           Eric 周興哲   49426\n",
       "14   蔡依林 (Jolin Tsai)   49055\n",
       "15    蘇打綠 (Sodagreen)   47177\n",
       "16  楊丞琳 (Rainie Yang)   46006\n",
       "17         丁噹 (Della)   45762\n",
       "18   梁靜茹 (Fish Leong)   44290\n",
       "19   The Chainsmokers   44215"
      ]
     },
     "execution_count": 9,
     "metadata": {},
     "output_type": "execute_result"
    }
   ],
   "source": [
    "#Task 1: \n",
    "#- Find out top-20 of most popular artist's in terms of:  unique users listens;\n",
    "listen_ext_cnt_u = listen_ext.distinct().groupBy(\"artist_name\").count().sort(\"count\", ascending=False)\n",
    "\n",
    "raw_listen_20_u = listen_ext_cnt_u.limit(20).toPandas()\n",
    "raw_listen_20_u.head(20)\n"
   ]
  },
  {
   "cell_type": "code",
   "execution_count": 10,
   "metadata": {},
   "outputs": [
    {
     "name": "stderr",
     "output_type": "stream",
     "text": [
      "                                                                                \r"
     ]
    },
    {
     "data": {
      "text/html": [
       "<div>\n",
       "<style scoped>\n",
       "    .dataframe tbody tr th:only-of-type {\n",
       "        vertical-align: middle;\n",
       "    }\n",
       "\n",
       "    .dataframe tbody tr th {\n",
       "        vertical-align: top;\n",
       "    }\n",
       "\n",
       "    .dataframe thead th {\n",
       "        text-align: right;\n",
       "    }\n",
       "</style>\n",
       "<table border=\"1\" class=\"dataframe\">\n",
       "  <thead>\n",
       "    <tr style=\"text-align: right;\">\n",
       "      <th></th>\n",
       "      <th>language</th>\n",
       "      <th>count</th>\n",
       "    </tr>\n",
       "  </thead>\n",
       "  <tbody>\n",
       "    <tr>\n",
       "      <th>0</th>\n",
       "      <td>3.0</td>\n",
       "      <td>4044643</td>\n",
       "    </tr>\n",
       "    <tr>\n",
       "      <th>1</th>\n",
       "      <td>52.0</td>\n",
       "      <td>1864788</td>\n",
       "    </tr>\n",
       "    <tr>\n",
       "      <th>2</th>\n",
       "      <td>31.0</td>\n",
       "      <td>656623</td>\n",
       "    </tr>\n",
       "  </tbody>\n",
       "</table>\n",
       "</div>"
      ],
      "text/plain": [
       "  language    count\n",
       "0      3.0  4044643\n",
       "1     52.0  1864788\n",
       "2     31.0   656623"
      ]
     },
     "execution_count": 10,
     "metadata": {},
     "output_type": "execute_result"
    }
   ],
   "source": [
    "#Task 2: \n",
    "#- find out top-3 languages by num of raw listens\n",
    "\n",
    "listen_ext_cnt_lan = listen_ext.groupBy(\"language\").count().sort(\"count\", ascending=False)\n",
    "\n",
    "raw_lang_3 = listen_ext_cnt_lan.limit(3).toPandas()\n",
    "raw_lang_3.head(3)"
   ]
  },
  {
   "cell_type": "code",
   "execution_count": 11,
   "metadata": {
    "scrolled": true
   },
   "outputs": [
    {
     "name": "stderr",
     "output_type": "stream",
     "text": [
      "                                                                                \r"
     ]
    },
    {
     "data": {
      "text/html": [
       "<div>\n",
       "<style scoped>\n",
       "    .dataframe tbody tr th:only-of-type {\n",
       "        vertical-align: middle;\n",
       "    }\n",
       "\n",
       "    .dataframe tbody tr th {\n",
       "        vertical-align: top;\n",
       "    }\n",
       "\n",
       "    .dataframe thead th {\n",
       "        text-align: right;\n",
       "    }\n",
       "</style>\n",
       "<table border=\"1\" class=\"dataframe\">\n",
       "  <thead>\n",
       "    <tr style=\"text-align: right;\">\n",
       "      <th></th>\n",
       "      <th>language</th>\n",
       "      <th>song_length</th>\n",
       "    </tr>\n",
       "  </thead>\n",
       "  <tbody>\n",
       "    <tr>\n",
       "      <th>0</th>\n",
       "      <td>-1</td>\n",
       "      <td>3.941846e+07</td>\n",
       "    </tr>\n",
       "    <tr>\n",
       "      <th>1</th>\n",
       "      <td>38.0</td>\n",
       "      <td>5.746941e+08</td>\n",
       "    </tr>\n",
       "    <tr>\n",
       "      <th>2</th>\n",
       "      <td>3</td>\n",
       "      <td>1.704076e+06</td>\n",
       "    </tr>\n",
       "    <tr>\n",
       "      <th>3</th>\n",
       "      <td>45.0</td>\n",
       "      <td>3.480345e+09</td>\n",
       "    </tr>\n",
       "    <tr>\n",
       "      <th>4</th>\n",
       "      <td>59</td>\n",
       "      <td>8.559910e+05</td>\n",
       "    </tr>\n",
       "  </tbody>\n",
       "</table>\n",
       "</div>"
      ],
      "text/plain": [
       "  language   song_length\n",
       "0       -1  3.941846e+07\n",
       "1     38.0  5.746941e+08\n",
       "2        3  1.704076e+06\n",
       "3     45.0  3.480345e+09\n",
       "4       59  8.559910e+05"
      ]
     },
     "execution_count": 11,
     "metadata": {},
     "output_type": "execute_result"
    }
   ],
   "source": [
    "#Task 2: \n",
    "#- build histogram of songs length by language / genre. \n",
    "#What is the longest genre? What is more valuable in terms of length: language or genre? \n",
    "\n",
    "#song_length|      genre_ids|              language|\n",
    "\n",
    "from pyspark.sql.functions import sum as _sum\n",
    "\n",
    "# build dataframe with lang - song lenght\n",
    "songs_lang_len_df = songs.groupBy(\"language\").agg(_sum(\"song_length\").alias('song_length')).toPandas()\n",
    "songs_lang_len_df.head()"
   ]
  },
  {
   "cell_type": "code",
   "execution_count": 12,
   "metadata": {},
   "outputs": [
    {
     "data": {
      "text/html": [
       "<div>\n",
       "<style scoped>\n",
       "    .dataframe tbody tr th:only-of-type {\n",
       "        vertical-align: middle;\n",
       "    }\n",
       "\n",
       "    .dataframe tbody tr th {\n",
       "        vertical-align: top;\n",
       "    }\n",
       "\n",
       "    .dataframe thead th {\n",
       "        text-align: right;\n",
       "    }\n",
       "</style>\n",
       "<table border=\"1\" class=\"dataframe\">\n",
       "  <thead>\n",
       "    <tr style=\"text-align: right;\">\n",
       "      <th></th>\n",
       "      <th>language</th>\n",
       "      <th>song_length</th>\n",
       "      <th>song_length_min</th>\n",
       "    </tr>\n",
       "  </thead>\n",
       "  <tbody>\n",
       "    <tr>\n",
       "      <th>10</th>\n",
       "      <td>52.0</td>\n",
       "      <td>3.134235e+11</td>\n",
       "      <td>5.223725e+06</td>\n",
       "    </tr>\n",
       "    <tr>\n",
       "      <th>16</th>\n",
       "      <td>-1.0</td>\n",
       "      <td>1.764514e+11</td>\n",
       "      <td>2.940857e+06</td>\n",
       "    </tr>\n",
       "    <tr>\n",
       "      <th>19</th>\n",
       "      <td>3.0</td>\n",
       "      <td>2.594856e+10</td>\n",
       "      <td>4.324759e+05</td>\n",
       "    </tr>\n",
       "    <tr>\n",
       "      <th>8</th>\n",
       "      <td>17.0</td>\n",
       "      <td>2.316844e+10</td>\n",
       "      <td>3.861407e+05</td>\n",
       "    </tr>\n",
       "    <tr>\n",
       "      <th>14</th>\n",
       "      <td>24.0</td>\n",
       "      <td>9.963970e+09</td>\n",
       "      <td>1.660662e+05</td>\n",
       "    </tr>\n",
       "  </tbody>\n",
       "</table>\n",
       "</div>"
      ],
      "text/plain": [
       "   language   song_length  song_length_min\n",
       "10     52.0  3.134235e+11     5.223725e+06\n",
       "16     -1.0  1.764514e+11     2.940857e+06\n",
       "19      3.0  2.594856e+10     4.324759e+05\n",
       "8      17.0  2.316844e+10     3.861407e+05\n",
       "14     24.0  9.963970e+09     1.660662e+05"
      ]
     },
     "execution_count": 12,
     "metadata": {},
     "output_type": "execute_result"
    }
   ],
   "source": [
    "songs_lang_len_df[\"song_length_min\"] = songs_lang_len_df[\"song_length\"]/60000\n",
    "songs_lang_len_df = songs_lang_len_df.sort_values(by=[\"song_length_min\"], ascending=False)\n",
    "songs_lang_len_df.head()"
   ]
  },
  {
   "cell_type": "code",
   "execution_count": 13,
   "metadata": {
    "scrolled": true
   },
   "outputs": [
    {
     "data": {
      "text/plain": [
       "<AxesSubplot:xlabel='language', ylabel='song_length_min'>"
      ]
     },
     "execution_count": 13,
     "metadata": {},
     "output_type": "execute_result"
    },
    {
     "data": {
      "image/png": "[encoded data removed]",
      "text/plain": [
       "<Figure size 1152x432 with 1 Axes>"
      ]
     },
     "metadata": {
      "needs_background": "light"
     },
     "output_type": "display_data"
    }
   ],
   "source": [
    "fig, ax = plt.subplots(figsize=(16, 6))\n",
    "plt.ticklabel_format(style='plain', axis='y')\n",
    "sns.barplot(x='language', y='song_length_min', data=songs_lang_len_df, ax=ax)"
   ]
  },
  {
   "cell_type": "markdown",
   "metadata": {},
   "source": [
    " two languages dominate in terms of song length: 52.0 and -1.0"
   ]
  },
  {
   "cell_type": "code",
   "execution_count": 14,
   "metadata": {},
   "outputs": [
    {
     "name": "stderr",
     "output_type": "stream",
     "text": [
      "                                                                                \r"
     ]
    },
    {
     "data": {
      "text/html": [
       "<div>\n",
       "<style scoped>\n",
       "    .dataframe tbody tr th:only-of-type {\n",
       "        vertical-align: middle;\n",
       "    }\n",
       "\n",
       "    .dataframe tbody tr th {\n",
       "        vertical-align: top;\n",
       "    }\n",
       "\n",
       "    .dataframe thead th {\n",
       "        text-align: right;\n",
       "    }\n",
       "</style>\n",
       "<table border=\"1\" class=\"dataframe\">\n",
       "  <thead>\n",
       "    <tr style=\"text-align: right;\">\n",
       "      <th></th>\n",
       "      <th>genre_ids</th>\n",
       "      <th>song_length</th>\n",
       "    </tr>\n",
       "  </thead>\n",
       "  <tbody>\n",
       "    <tr>\n",
       "      <th>0</th>\n",
       "      <td>829</td>\n",
       "      <td>2.644641e+09</td>\n",
       "    </tr>\n",
       "    <tr>\n",
       "      <th>1</th>\n",
       "      <td>691</td>\n",
       "      <td>3.710705e+09</td>\n",
       "    </tr>\n",
       "    <tr>\n",
       "      <th>2</th>\n",
       "      <td>1572</td>\n",
       "      <td>3.748923e+08</td>\n",
       "    </tr>\n",
       "    <tr>\n",
       "      <th>3</th>\n",
       "      <td>1152|465|1180</td>\n",
       "      <td>5.705852e+06</td>\n",
       "    </tr>\n",
       "    <tr>\n",
       "      <th>4</th>\n",
       "      <td>1152|2022</td>\n",
       "      <td>1.396196e+07</td>\n",
       "    </tr>\n",
       "  </tbody>\n",
       "</table>\n",
       "</div>"
      ],
      "text/plain": [
       "       genre_ids   song_length\n",
       "0            829  2.644641e+09\n",
       "1            691  3.710705e+09\n",
       "2           1572  3.748923e+08\n",
       "3  1152|465|1180  5.705852e+06\n",
       "4      1152|2022  1.396196e+07"
      ]
     },
     "execution_count": 14,
     "metadata": {},
     "output_type": "execute_result"
    }
   ],
   "source": [
    "# build dataframe with genre_ids - song lenght\n",
    "songs_genre_len_df = songs.groupBy(\"genre_ids\").agg(_sum(\"song_length\").alias('song_length')).toPandas()\n",
    "songs_genre_len_df.head()"
   ]
  },
  {
   "cell_type": "code",
   "execution_count": 15,
   "metadata": {},
   "outputs": [
    {
     "data": {
      "text/html": [
       "<div>\n",
       "<style scoped>\n",
       "    .dataframe tbody tr th:only-of-type {\n",
       "        vertical-align: middle;\n",
       "    }\n",
       "\n",
       "    .dataframe tbody tr th {\n",
       "        vertical-align: top;\n",
       "    }\n",
       "\n",
       "    .dataframe thead th {\n",
       "        text-align: right;\n",
       "    }\n",
       "</style>\n",
       "<table border=\"1\" class=\"dataframe\">\n",
       "  <thead>\n",
       "    <tr style=\"text-align: right;\">\n",
       "      <th></th>\n",
       "      <th>genre_ids</th>\n",
       "      <th>song_length</th>\n",
       "      <th>song_length_min</th>\n",
       "    </tr>\n",
       "  </thead>\n",
       "  <tbody>\n",
       "    <tr>\n",
       "      <th>732</th>\n",
       "      <td>465</td>\n",
       "      <td>1.331078e+11</td>\n",
       "      <td>2.218463e+06</td>\n",
       "    </tr>\n",
       "    <tr>\n",
       "      <th>652</th>\n",
       "      <td>958</td>\n",
       "      <td>5.268465e+10</td>\n",
       "      <td>8.780775e+05</td>\n",
       "    </tr>\n",
       "    <tr>\n",
       "      <th>147</th>\n",
       "      <td>1609</td>\n",
       "      <td>4.841611e+10</td>\n",
       "      <td>8.069351e+05</td>\n",
       "    </tr>\n",
       "    <tr>\n",
       "      <th>512</th>\n",
       "      <td>2022</td>\n",
       "      <td>4.098127e+10</td>\n",
       "      <td>6.830211e+05</td>\n",
       "    </tr>\n",
       "    <tr>\n",
       "      <th>530</th>\n",
       "      <td>2122</td>\n",
       "      <td>3.549514e+10</td>\n",
       "      <td>5.915856e+05</td>\n",
       "    </tr>\n",
       "  </tbody>\n",
       "</table>\n",
       "</div>"
      ],
      "text/plain": [
       "    genre_ids   song_length  song_length_min\n",
       "732       465  1.331078e+11     2.218463e+06\n",
       "652       958  5.268465e+10     8.780775e+05\n",
       "147      1609  4.841611e+10     8.069351e+05\n",
       "512      2022  4.098127e+10     6.830211e+05\n",
       "530      2122  3.549514e+10     5.915856e+05"
      ]
     },
     "execution_count": 15,
     "metadata": {},
     "output_type": "execute_result"
    }
   ],
   "source": [
    "songs_genre_len_df[\"song_length_min\"] = songs_genre_len_df[\"song_length\"]/60000\n",
    "songs_genre_len_df = songs_genre_len_df.sort_values(by=[\"song_length_min\"], ascending=False)\n",
    "songs_genre_len_df.head()"
   ]
  },
  {
   "cell_type": "code",
   "execution_count": 16,
   "metadata": {},
   "outputs": [
    {
     "data": {
      "text/plain": [
       "<AxesSubplot:xlabel='genre_ids', ylabel='song_length_min'>"
      ]
     },
     "execution_count": 16,
     "metadata": {},
     "output_type": "execute_result"
    },
    {
     "data": {
      "image/png": "[encoded data removed]",
      "text/plain": [
       "<Figure size 1152x432 with 1 Axes>"
      ]
     },
     "metadata": {
      "needs_background": "light"
     },
     "output_type": "display_data"
    }
   ],
   "source": [
    "fig, ax = plt.subplots(figsize=(16, 6))\n",
    "plt.ticklabel_format(style='plain', axis='y')\n",
    "sns.barplot(x='genre_ids', y='song_length_min', data=songs_genre_len_df, ax=ax)"
   ]
  },
  {
   "cell_type": "markdown",
   "metadata": {},
   "source": [
    "too many genres, visualize only first 30"
   ]
  },
  {
   "cell_type": "code",
   "execution_count": 17,
   "metadata": {},
   "outputs": [
    {
     "data": {
      "text/plain": [
       "<AxesSubplot:xlabel='genre_ids', ylabel='song_length_min'>"
      ]
     },
     "execution_count": 17,
     "metadata": {},
     "output_type": "execute_result"
    },
    {
     "data": {
      "image/png": "[encoded data removed]",
      "text/plain": [
       "<Figure size 1152x432 with 1 Axes>"
      ]
     },
     "metadata": {
      "needs_background": "light"
     },
     "output_type": "display_data"
    }
   ],
   "source": [
    "fig, ax = plt.subplots(figsize=(16, 6))\n",
    "plt.ticklabel_format(style='plain', axis='y')\n",
    "sns.barplot(x='genre_ids', y='song_length_min', data=songs_genre_len_df.head(30), ax=ax)"
   ]
  },
  {
   "cell_type": "markdown",
   "metadata": {},
   "source": [
    "The longest genre is '465'.\n"
   ]
  },
  {
   "cell_type": "markdown",
   "metadata": {},
   "source": [
    "I consider looking at the length by genre to be more influential, since it yields more valuable results. "
   ]
  }
 ],
 "metadata": {
  "kernelspec": {
   "display_name": "Python 3 (ipykernel)",
   "language": "python",
   "name": "python3"
  },
  "language_info": {
   "codemirror_mode": {
    "name": "ipython",
    "version": 3
   },
   "file_extension": ".py",
   "mimetype": "text/x-python",
   "name": "python",
   "nbconvert_exporter": "python",
   "pygments_lexer": "ipython3",
   "version": "3.9.7"
  }
 },
 "nbformat": 4,
 "nbformat_minor": 4
}
